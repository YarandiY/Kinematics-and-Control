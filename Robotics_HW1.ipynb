{
  "nbformat": 4,
  "nbformat_minor": 0,
  "metadata": {
    "colab": {
      "name": "Robotics.ipynb",
      "provenance": [],
      "collapsed_sections": []
    },
    "kernelspec": {
      "name": "python3",
      "display_name": "Python 3"
    }
  },
  "cells": [
    {
      "cell_type": "code",
      "metadata": {
        "id": "b1hgDFfOMr1m"
      },
      "source": [
        "import math\r\n",
        "import numpy as np\r\n",
        "import matplotlib.pyplot as plt\r\n",
        "from sympy import symbols, Eq, solve"
      ],
      "execution_count": null,
      "outputs": []
    },
    {
      "cell_type": "code",
      "metadata": {
        "id": "CqRYMCqSf22-"
      },
      "source": [
        "# Constant values\r\n",
        "Delta_t = 0.1  \r\n",
        "Deg2Rad = math.pi/180"
      ],
      "execution_count": null,
      "outputs": []
    },
    {
      "cell_type": "markdown",
      "metadata": {
        "id": "C03ZOAdxcrgc"
      },
      "source": [
        "# Forward & Inverse kinematic of a differential drive robot"
      ]
    },
    {
      "cell_type": "code",
      "metadata": {
        "colab": {
          "base_uri": "https://localhost:8080/"
        },
        "id": "ETdyiaXKLJXa",
        "outputId": "9c378ce8-e7d5-4b3c-e2a1-95697ccff0aa"
      },
      "source": [
        "\r\n",
        "# Just used in forward calculations\r\n",
        "def calculate_local(r, two_l, phi1_dot, phi2_dot): # phi1_dot and phi2_dot are in degree/s\r\n",
        "  x_dot_R = (r/2) * (phi1_dot + phi2_dot) * Deg2Rad\r\n",
        "  y_dot_R = 0\r\n",
        "  teta_dot_R = (r/two_l)* (phi1_dot - phi2_dot) * Deg2Rad\r\n",
        "  return np.array([x_dot_R, y_dot_R, teta_dot_R])\r\n",
        "\r\n",
        "#Test\r\n",
        "unit_test = calculate_local(2.5, 20, -5, 7)\r\n",
        "print(unit_test) # real answer with changing to radian\r\n",
        "print(\"x_dot_R : \", unit_test[0]/Deg2Rad) # not changed to radian \r\n",
        "print(\"y_dot_R : \", unit_test[1])\r\n",
        "print(\"teta_dot : \", unit_test[2]/Deg2Rad) # deg/s"
      ],
      "execution_count": null,
      "outputs": [
        {
          "output_type": "stream",
          "text": [
            "[ 0.04363323  0.         -0.02617994]\n",
            "x_dot_R :  2.5\n",
            "y_dot_R :  0.0\n",
            "teta_dot :  -1.5\n"
          ],
          "name": "stdout"
        }
      ]
    },
    {
      "cell_type": "code",
      "metadata": {
        "id": "z06duBxzOFM_"
      },
      "source": [
        "# shared function between forward and inverse calculation\r\n",
        "def change_coordinates(matrix, teta, toGlobal): # teta is in degree\r\n",
        "  toGlobal = -1 if toGlobal else 1\r\n",
        "  teta *= Deg2Rad\r\n",
        "  R_teta = np.array([\r\n",
        "    [math.cos(toGlobal * teta), math.sin(toGlobal * teta), 0],\r\n",
        "    [-1 * math.sin(toGlobal * teta), math.cos(toGlobal * teta), 0 ],\r\n",
        "    [0, 0, 1]\r\n",
        "  ])\r\n",
        "  return np.dot(R_teta, matrix)"
      ],
      "execution_count": null,
      "outputs": []
    },
    {
      "cell_type": "code",
      "metadata": {
        "colab": {
          "base_uri": "https://localhost:8080/"
        },
        "id": "Wfvjk8P74kp3",
        "outputId": "aa7c7756-13a8-4e4f-acc7-f921b361affb"
      },
      "source": [
        "# Just used in inverse calculations\r\n",
        "def calculate_velocity(matrix, r, two_l): \r\n",
        "  phi1_dot, phi2_dot = symbols('phi1_dot phi2_dot')\r\n",
        "  eq1 = Eq(matrix[0], (r/2)*(phi1_dot+phi2_dot))\r\n",
        "  eq2 = Eq(matrix[2]*Deg2Rad, (r/two_l)*(phi1_dot-phi2_dot))\r\n",
        "  sol = solve((eq1, eq2),(phi1_dot, phi2_dot))\r\n",
        "  return sol # phi1_dot and phi2_dot are in radian/s\r\n",
        "\r\n",
        "# Test\r\n",
        "calculate_velocity([1.41, 0, 1], 2.5, 20)"
      ],
      "execution_count": null,
      "outputs": [
        {
          "output_type": "execute_result",
          "data": {
            "text/plain": [
              "{phi1_dot: 0.633813170079773, phi2_dot: 0.494186829920227}"
            ]
          },
          "metadata": {
            "tags": []
          },
          "execution_count": 7
        }
      ]
    },
    {
      "cell_type": "code",
      "metadata": {
        "colab": {
          "base_uri": "https://localhost:8080/"
        },
        "id": "C1fxJ0XP2Nn8",
        "outputId": "f796940f-d08d-4b2c-d2b2-198df91b125e"
      },
      "source": [
        "# Main part calculation of forward kinematic\r\n",
        "def forward_cal(r, two_l, phi1_dot, phi2_dot, teta):\r\n",
        "  return change_coordinates(calculate_local(r, two_l, phi1_dot, phi2_dot), teta, True)\r\n",
        "\r\n",
        "#Test\r\n",
        "print(\"------ Forward test ------\")\r\n",
        "unit_test = forward_cal(2.5, 20, -5, 7, 30)\r\n",
        "print(np.around(unit_test, decimals=2)) # real answer with changing to radian\r\n",
        "print(\"x_dot_I : \", np.around(unit_test[0]/Deg2Rad, decimals=2)) # not changed to radian \r\n",
        "print(\"y_dot_I : \", np.around(unit_test[1]/Deg2Rad, decimals=2)) # not changed to radian \r\n",
        "print(\"teta_dot : \", np.around(unit_test[2]/Deg2Rad, decimals=2)) # deg/s"
      ],
      "execution_count": null,
      "outputs": [
        {
          "output_type": "stream",
          "text": [
            "------ Forward test ------\n",
            "[ 0.04  0.02 -0.03]\n",
            "x_dot_I :  2.17\n",
            "y_dot_I :  1.25\n",
            "teta_dot :  -1.5\n"
          ],
          "name": "stdout"
        }
      ]
    },
    {
      "cell_type": "code",
      "metadata": {
        "colab": {
          "base_uri": "https://localhost:8080/"
        },
        "id": "6ZqT_H2p35sO",
        "outputId": "11c737ec-d2e6-4fba-e6df-f5b0e0c8a11c"
      },
      "source": [
        "# Main part calculation of inverse kinematic\r\n",
        "def inverse_cal(matrix, teta, r, two_l):\r\n",
        "  return calculate_velocity(change_coordinates(matrix, teta, False), r, two_l)\r\n",
        "\r\n",
        "print(\"------ Inverse test ------\")\r\n",
        "unit_test = inverse_cal([1, 1, 1], 45, 2.5, 20)\r\n",
        "print(unit_test) # radian/s"
      ],
      "execution_count": null,
      "outputs": [
        {
          "output_type": "stream",
          "text": [
            "------ Inverse test ------\n",
            "{phi1_dot: 0.635498595029009, phi2_dot: 0.495872254869463}\n"
          ],
          "name": "stdout"
        }
      ]
    },
    {
      "cell_type": "markdown",
      "metadata": {
        "id": "L-tPdTPo3r1T"
      },
      "source": [
        "# Plots"
      ]
    },
    {
      "cell_type": "code",
      "metadata": {
        "id": "MwimW8K61_yC"
      },
      "source": [
        "def forward_plot(x, y, linear_v, angular_v, t_range):\r\n",
        "  # evenly sampled time at 1sec intervals\r\n",
        "  t = np.arange(0., t_range, 1)\r\n",
        "  \r\n",
        "  fig, ((ax1, ax2), (ax3, ax4)) = plt.subplots(2, 2)\r\n",
        "  \r\n",
        "  ax1.plot(t, x) #blue\r\n",
        "  ax1.plot(t, y) #orange\r\n",
        "  ax1.set_xlabel('t', fontsize=12)\r\n",
        "  ax1.set_ylabel('x/y', fontsize=12)\r\n",
        "\r\n",
        "  # the robot's movement path\r\n",
        "  plt.tight_layout(3) # set specified padding between plots\r\n",
        "  ax2.plot(x, y, 'o') \r\n",
        "  ax2.set_xlabel('x', fontsize=12)\r\n",
        "  ax2.set_ylabel('y', fontsize=12)\r\n",
        "\r\n",
        "  # linear velocity diagram\r\n",
        "  plt.tight_layout(3)\r\n",
        "  ax3.plot(t, linear_v)\r\n",
        "  ax3.set_xlabel('t', fontsize=12)\r\n",
        "  ax3.set_ylabel('v', fontsize=12)\r\n",
        "\r\n",
        "  # angular velocity diagram\r\n",
        "  plt.tight_layout(3)\r\n",
        "  ax4.plot(t, angular_v)\r\n",
        "  ax4.set_xlabel('t', fontsize=12)\r\n",
        "  ax4.set_ylabel('teta_dot', fontsize=12)"
      ],
      "execution_count": null,
      "outputs": []
    },
    {
      "cell_type": "code",
      "metadata": {
        "id": "sfKW2Y-vdOPW"
      },
      "source": [
        "# Final result when the robot perform the movements\r\n",
        "def forward_res(r, two_l, phi1, phi2, teta):\r\n",
        "  t_range = 10000\r\n",
        "  x0 = 5\r\n",
        "  y0 = 5\r\n",
        "\r\n",
        "  v = forward_cal(r, two_l, phi1, phi2, teta)\r\n",
        "\r\n",
        "  linear_v = []\r\n",
        "  linear_v.append(v[0])\r\n",
        "\r\n",
        "  angular_v = []\r\n",
        "  angular_v.append(v[2])\r\n",
        "\r\n",
        "  x = []\r\n",
        "  x.append(x0)\r\n",
        "\r\n",
        "  y = []\r\n",
        "  y.append(y0)\r\n",
        "\r\n",
        "  v_local = change_coordinates(v, teta, False) # to find the velocities in robot's coordinate\r\n",
        "  linear_v = [v_local[0]] * t_range\r\n",
        "  angular_v = [v_local[2]] * t_range\r\n",
        "  \r\n",
        "\r\n",
        "  for i in range(1, t_range): \r\n",
        "    x.append(x[i-1]+(Delta_t*v[0]))\r\n",
        "    y.append(y[i-1]+(Delta_t*v[1]))\r\n",
        "    teta += v[2]*Delta_t\r\n",
        "    v = forward_cal(r, two_l, phi1, phi2, teta)\r\n",
        "    # linear_v.append(v_local[0])                   \r\n",
        "    # angular_v.append(v_local[2])\r\n",
        "\r\n",
        "  forward_plot(x, y, linear_v, angular_v, t_range)"
      ],
      "execution_count": null,
      "outputs": []
    },
    {
      "cell_type": "markdown",
      "metadata": {
        "id": "f6mt7fgp2hEV"
      },
      "source": [
        "## Tests for forward kinematic"
      ]
    },
    {
      "cell_type": "code",
      "metadata": {
        "colab": {
          "base_uri": "https://localhost:8080/",
          "height": 259
        },
        "id": "q2VK52KxRe6q",
        "outputId": "4cc7a7e7-f7a0-463a-fa5c-214a813eb958"
      },
      "source": [
        "# Equal and same direction angular velocity for both wheels\r\n",
        "# test1 = forward_cal(2.5, 20, 5, 5, 30)\r\n",
        "# print(\"x_dot_I : \", np.around(test1[0], decimals=2)) # radian \r\n",
        "# print(\"y_dot_I : \", np.around(test1[1], decimals=2)) # radian \r\n",
        "# print(\"teta_dot : \", np.around(test1[2]/Deg2Rad, decimals=2)) # deg/s\r\n",
        "forward_res(2.5, 20, 5, 5, 30)"
      ],
      "execution_count": null,
      "outputs": [
        {
          "output_type": "display_data",
          "data": {
            "image/png": "[encoded data removed]",
            "text/plain": [
              "<Figure size 432x288 with 4 Axes>"
            ]
          },
          "metadata": {
            "tags": [],
            "needs_background": "light"
          }
        }
      ]
    },
    {
      "cell_type": "code",
      "metadata": {
        "colab": {
          "base_uri": "https://localhost:8080/",
          "height": 259
        },
        "id": "MZNJOqEeb1t8",
        "outputId": "4e42f968-5482-49dc-f8a5-d449fe0957c4"
      },
      "source": [
        "# Equal angular velocity for both wheels and different directions\r\n",
        "# test2 = forward_cal(2.5, 20, 5, -5, 30)\r\n",
        "# print(\"x_dot_I : \", np.around(test2[0], decimals=2)) # radian \r\n",
        "# print(\"y_dot_I : \", np.around(test2[1], decimals=2)) # radian \r\n",
        "# print(\"teta_dot : \", np.around(test2[2]/Deg2Rad, decimals=2)) # deg/s\r\n",
        "forward_res(2.5, 20, 5, -5, 30)"
      ],
      "execution_count": null,
      "outputs": [
        {
          "output_type": "display_data",
          "data": {
            "image/png": "[encoded data removed]",
            "text/plain": [
              "<Figure size 432x288 with 4 Axes>"
            ]
          },
          "metadata": {
            "tags": [],
            "needs_background": "light"
          }
        }
      ]
    },
    {
      "cell_type": "code",
      "metadata": {
        "colab": {
          "base_uri": "https://localhost:8080/",
          "height": 259
        },
        "id": "EN0ufC9KcADK",
        "outputId": "d628df43-53b4-4a54-b3b8-baf050070b99"
      },
      "source": [
        "# Zero angular velocity for one wheel and non-zero for the other\r\n",
        "forward_res(2.5, 20, -155, 0, 30)"
      ],
      "execution_count": null,
      "outputs": [
        {
          "output_type": "display_data",
          "data": {
            "image/png": "[encoded data removed]",
            "text/plain": [
              "<Figure size 432x288 with 4 Axes>"
            ]
          },
          "metadata": {
            "tags": [],
            "needs_background": "light"
          }
        }
      ]
    },
    {
      "cell_type": "code",
      "metadata": {
        "colab": {
          "base_uri": "https://localhost:8080/",
          "height": 259
        },
        "id": "PMeaoGf7cLKp",
        "outputId": "fa55997d-b3c4-4462-d772-72195c87f979"
      },
      "source": [
        "# Larger angular velocity for one wheel than the other\r\n",
        "forward_res(2.5, 20, 20, 55, 30)"
      ],
      "execution_count": null,
      "outputs": [
        {
          "output_type": "display_data",
          "data": {
            "image/png": "[encoded data removed]",
            "text/plain": [
              "<Figure size 432x288 with 4 Axes>"
            ]
          },
          "metadata": {
            "tags": [],
            "needs_background": "light"
          }
        }
      ]
    },
    {
      "cell_type": "markdown",
      "metadata": {
        "id": "QOrmfSLTd2bz"
      },
      "source": [
        "## Tests for inverse kinematic"
      ]
    },
    {
      "cell_type": "code",
      "metadata": {
        "id": "IUlUTug_-lDk"
      },
      "source": [
        "def inversePlot(v): # v is a dictionary and the solution of equation\r\n",
        "  t_range = 10000\r\n",
        "  phi1_dot, phi2_dot = symbols('phi1_dot phi2_dot')\r\n",
        "\r\n",
        "  # evenly sampled time at 1sec intervals\r\n",
        "  t = np.arange(0., t_range, 1)\r\n",
        "  \r\n",
        "\r\n",
        "  angular_v_wheel1 = [v[phi1_dot]] * t_range\r\n",
        "  angular_v_wheel2 = [v[phi2_dot]] * t_range\r\n",
        "  \r\n",
        "  # phi1_dot/phi2_dot and time diagram\r\n",
        "  plt.plot(t, angular_v_wheel1) #blue\r\n",
        "  plt.plot(t, angular_v_wheel2) #orange\r\n",
        "  plt.xlabel('t', fontsize=12)\r\n",
        "  plt.ylabel('phi1_dot/phi2_dot', fontsize=12)"
      ],
      "execution_count": null,
      "outputs": []
    },
    {
      "cell_type": "code",
      "metadata": {
        "id": "_1mOmt9giGCe",
        "colab": {
          "base_uri": "https://localhost:8080/",
          "height": 316
        },
        "outputId": "3146ad8b-e9a1-48fe-f851-adbb5360e469"
      },
      "source": [
        "# Linear movement with constant velocity to the straight forward\r\n",
        "# this test is the inverse of test1: the result should be 5 & 5 deg/s\r\n",
        "test5 = inverse_cal([0.19, 0.11, 0], 30, 2.5, 20)\r\n",
        "print(test5) # output is in radian/s\r\n",
        "print(\"Desired result: \", 5*Deg2Rad, \"rad/s ,\",5*Deg2Rad, \"rad/s\") # print 5 in radian/s\r\n",
        "inversePlot(test5)"
      ],
      "execution_count": null,
      "outputs": [
        {
          "output_type": "stream",
          "text": [
            "{phi1_dot: 0.0878179306876172, phi2_dot: 0.0878179306876172}\n",
            "Desired result:  0.08726646259971647 rad/s , 0.08726646259971647 rad/s\n"
          ],
          "name": "stdout"
        },
        {
          "output_type": "display_data",
          "data": {
            "image/png": "[encoded data removed]",
            "text/plain": [
              "<Figure size 432x288 with 1 Axes>"
            ]
          },
          "metadata": {
            "tags": [],
            "needs_background": "light"
          }
        }
      ]
    },
    {
      "cell_type": "code",
      "metadata": {
        "colab": {
          "base_uri": "https://localhost:8080/",
          "height": 316
        },
        "id": "6SgieQmAGjLN",
        "outputId": "f3fd7c51-7e3a-4681-a20c-2bd2fa218303"
      },
      "source": [
        "# Circular in-place movement (without changing position)\r\n",
        "# this test is the inverse of test2: the result should be 5 & -5 deg/s\r\n",
        "test6 = inverse_cal([0, 0, 1.25], 30, 2.5, 20)\r\n",
        "print(test6) # output is in radian/s\r\n",
        "print(\"Desired result: \", 5*Deg2Rad, \"rad/s ,\",-5*Deg2Rad, \"rad/s\") # print 5 in radian/s\r\n",
        "inversePlot(test6)"
      ],
      "execution_count": null,
      "outputs": [
        {
          "output_type": "stream",
          "text": [
            "{phi1_dot: 0.0872664625997164, phi2_dot: -0.0872664625997164}\n",
            "Desired result:  0.08726646259971647 rad/s , -0.08726646259971647 rad/s\n"
          ],
          "name": "stdout"
        },
        {
          "output_type": "display_data",
          "data": {
            "image/png": "[encoded data removed]",
            "text/plain": [
              "<Figure size 432x288 with 1 Axes>"
            ]
          },
          "metadata": {
            "tags": [],
            "needs_background": "light"
          }
        }
      ]
    },
    {
      "cell_type": "markdown",
      "metadata": {
        "id": "EwmBn8Pz5t66"
      },
      "source": [
        "# Control"
      ]
    },
    {
      "cell_type": "code",
      "metadata": {
        "id": "G3tnRMrC50_o"
      },
      "source": [
        "def velocity_cal(x_i, y_i, x_f, y_f, teta): # teta is in deg\r\n",
        "  teta *= Deg2Rad # teta in radian\r\n",
        "  p = math.sqrt(math.pow(x_f - x_i, 2) + math.pow(y_f - y_i, 2)) # ro\r\n",
        "  # a = -1 * teta + math.atan(np.inf) if (abs(x_f - x_i) == 0) else (-1 * teta + math.atan(abs(y_f - y_i)/abs(x_f - x_i))) # alpha\r\n",
        "  a = -1 * teta + math.atan2((y_f - y_i), (x_f - x_i))\r\n",
        "  b = -1 * teta - a # beta\r\n",
        "\r\n",
        "  k_p = 0.5   # k_p > 0\r\n",
        "  k_b = -1000 # k_b < 0\r\n",
        "  k_a = 3000  # k_a > k_p\r\n",
        "\r\n",
        "  v = k_p * p            # linear velocity\r\n",
        "  w = k_a * a + k_b * b  # angular velocity\r\n",
        "\r\n",
        "  return [v, 0, w]\r\n"
      ],
      "execution_count": null,
      "outputs": []
    },
    {
      "cell_type": "code",
      "metadata": {
        "id": "VeSHt7WB8sx4"
      },
      "source": [
        "def controller(x_i, y_i, x_f, y_f, teta, r, two_l, x_list, y_list):\r\n",
        "\r\n",
        "  # print(x_i, y_i)\r\n",
        "  # print(teta)\r\n",
        "  x_list.append(x_i)\r\n",
        "  y_list.append(y_i)\r\n",
        "\r\n",
        "  if (abs(x_i - x_f) < 1) and (abs(y_i - y_f) < 1):\r\n",
        "    #  and (abs(teta) < 10)    \r\n",
        "    # the robot's movement path\r\n",
        "    plt.plot(x_list, y_list, 'o') \r\n",
        "    plt.xlabel('x', fontsize=12)\r\n",
        "    plt.ylabel('y', fontsize=12)\r\n",
        "    return\r\n",
        "\r\n",
        "  matrix = velocity_cal(x_i, y_i, x_f, y_f, teta)\r\n",
        "  matrix = change_coordinates(matrix, teta, True)\r\n",
        "\r\n",
        "  # Call Inverse kinematic\r\n",
        "  phi1_dot, phi2_dot = symbols('phi1_dot phi2_dot')\r\n",
        "  phi_dots = inverse_cal(matrix, teta, r, two_l) # radian/s\r\n",
        "  phi1_dot = phi_dots[phi1_dot]/Deg2Rad  # degree/s\r\n",
        "  phi2_dot = phi_dots[phi2_dot]/Deg2Rad # degree/s\r\n",
        "\r\n",
        "  # Call Forward kinematic\r\n",
        "  matrix2 = forward_cal(r, two_l, phi1_dot, phi2_dot, teta) # x_dot, y_dot, teta_dot\r\n",
        "  x_i += Delta_t * matrix2[0]\r\n",
        "  y_i += Delta_t * matrix2[1]\r\n",
        "  teta += Delta_t * matrix2[2]\r\n",
        "\r\n",
        "  controller(x_i, y_i, x_f, y_f, teta, r, two_l, x_list, y_list)"
      ],
      "execution_count": null,
      "outputs": []
    },
    {
      "cell_type": "code",
      "metadata": {
        "colab": {
          "base_uri": "https://localhost:8080/",
          "height": 282
        },
        "id": "GlfH42-dCi4R",
        "outputId": "639297fc-34b1-4ae9-cf34-00ec28852fa8"
      },
      "source": [
        "# Test part 3\r\n",
        "controller(0, 0, 0, 40, 10, 2.5, 20, [], [])\r\n",
        "controller(50, 50, 0, 0, -25, 2.5, 20, [], [])\r\n",
        "controller(50, 50, 80, 80, 180, 2.5, 20, [], [])"
      ],
      "execution_count": null,
      "outputs": [
        {
          "output_type": "display_data",
          "data": {
            "image/png": "[encoded data removed]",
            "text/plain": [
              "<Figure size 432x288 with 1 Axes>"
            ]
          },
          "metadata": {
            "tags": [],
            "needs_background": "light"
          }
        }
      ]
    },
    {
      "cell_type": "code",
      "metadata": {
        "id": "G6X2P16ElDAB",
        "colab": {
          "base_uri": "https://localhost:8080/",
          "height": 282
        },
        "outputId": "29cd50e7-be88-47bc-b784-1e6b43c4609d"
      },
      "source": [
        "# Test: Starting point in the middle and different destinations\r\n",
        "controller(0, 0, 0, 50, 110, 2.5, 20, [], [])\r\n",
        "controller(0, 0, 40, 35, 90, 2.5, 20, [], [])\r\n",
        "controller(0, 0, 50, 0, 45, 2.5, 20, [], [])\r\n",
        "controller(0, 0, 35, -35, 0, 2.5, 20, [], [])\r\n",
        "controller(0, 0, 0, -50, -90, 2.5, 20, [], [])\r\n",
        "controller(0, 0, -35, -35, -100, 2.5, 20, [], [])\r\n",
        "controller(0, 0, -50, 0, 215, 2.5, 20, [], [])\r\n",
        "controller(0, 0, -35, 35, 190, 2.5, 20, [], [])\r\n"
      ],
      "execution_count": null,
      "outputs": [
        {
          "output_type": "display_data",
          "data": {
            "image/png": "[encoded data removed]",
            "text/plain": [
              "<Figure size 432x288 with 1 Axes>"
            ]
          },
          "metadata": {
            "tags": [],
            "needs_background": "light"
          }
        }
      ]
    },
    {
      "cell_type": "code",
      "metadata": {
        "colab": {
          "base_uri": "https://localhost:8080/",
          "height": 282
        },
        "id": "z_kNZfwbZQyt",
        "outputId": "f85fb708-6a77-48e7-adcc-1f0318759144"
      },
      "source": [
        "# Test: The destination point is in the middle and the starting points are different\r\n",
        "controller(0, 50, 0, 0, -90, 2.5, 20, [], [])\r\n",
        "controller(40, 35, 0, 0, -90, 2.5, 20, [], [])\r\n",
        "controller(50, 20, 0, 0, -110, 2.5, 20, [], [])\r\n",
        "controller(35, -35, 0, 0, 100, 2.5, 20, [], [])\r\n",
        "controller(0, -50, 0, 0, 45, 2.5, 20, [], [])\r\n",
        "controller(-35, -35, 0, 0, 10, 2.5, 20, [], [])\r\n",
        "controller(-50, 0, 0, 0, -10, 2.5, 20, [], [])\r\n",
        "controller(-35, 35, 0, 0, 0, 2.5, 20, [], [])"
      ],
      "execution_count": null,
      "outputs": [
        {
          "output_type": "display_data",
          "data": {
            "image/png": "[encoded data removed]",
            "text/plain": [
              "<Figure size 432x288 with 1 Axes>"
            ]
          },
          "metadata": {
            "tags": [],
            "needs_background": "light"
          }
        }
      ]
    },
    {
      "cell_type": "code",
      "metadata": {
        "colab": {
          "base_uri": "https://localhost:8080/",
          "height": 282
        },
        "id": "cIXN7W98v6M7",
        "outputId": "5403e787-1b45-4e28-a05d-2874fa10d5e5"
      },
      "source": [
        "# another inputs\r\n",
        "controller(0, 50, 0, 0, 30, 2.5, 20, [], [])\r\n",
        "controller(40, 35, 0, 0, 30, 2.5, 20, [], [])\r\n",
        "controller(35, 20, 0, 0, -30, 2.5, 20, [], [])\r\n",
        "controller(35, -35, 0, 0, 30, 2.5, 20, [], [])\r\n",
        "controller(0, -50, 0, 0, 30, 2.5, 20, [], [])\r\n",
        "controller(-35, -35, 0, 0, 30, 2.5, 20, [], [])\r\n",
        "controller(-50, 0, 0, 0, 30, 2.5, 20, [], [])\r\n",
        "controller(-35, 35, 0, 0, 30, 2.5, 20, [], [])"
      ],
      "execution_count": null,
      "outputs": [
        {
          "output_type": "display_data",
          "data": {
            "image/png": "[encoded data removed]",
            "text/plain": [
              "<Figure size 432x288 with 1 Axes>"
            ]
          },
          "metadata": {
            "tags": [],
            "needs_background": "light"
          }
        }
      ]
    },
    {
      "cell_type": "code",
      "metadata": {
        "id": "k-frL2aEzIKZ"
      },
      "source": [
        ""
      ],
      "execution_count": null,
      "outputs": []
    }
  ]
}